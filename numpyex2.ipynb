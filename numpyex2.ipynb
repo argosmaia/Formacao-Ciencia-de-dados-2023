{
  "nbformat": 4,
  "nbformat_minor": 0,
  "metadata": {
    "colab": {
      "provenance": [],
      "toc_visible": true,
      "authorship_tag": "ABX9TyO2La7rRimcP1Btic3p+giw",
      "include_colab_link": true
    },
    "kernelspec": {
      "name": "python3",
      "display_name": "Python 3"
    },
    "language_info": {
      "name": "python"
    }
  },
  "cells": [
    {
      "cell_type": "markdown",
      "metadata": {
        "id": "view-in-github",
        "colab_type": "text"
      },
      "source": [
        "<a href=\"https://colab.research.google.com/github/argosmaia/Formacao-Ciencia-de-dados-2023/blob/master/numpyex2.ipynb\" target=\"_parent\"><img src=\"https://colab.research.google.com/assets/colab-badge.svg\" alt=\"Open In Colab\"/></a>"
      ]
    },
    {
      "cell_type": "code",
      "execution_count": null,
      "metadata": {
        "id": "y6wfh6G4ifDU"
      },
      "outputs": [],
      "source": [
        "import numpy as np"
      ]
    },
    {
      "cell_type": "code",
      "source": [
        "mt = np.array([12, 34, 26, 18, 10]) #matriz de uma linha\n",
        "print(mt)\n",
        "print(type(mt))"
      ],
      "metadata": {
        "colab": {
          "base_uri": "https://localhost:8080/"
        },
        "id": "9BNq2lmGij7D",
        "outputId": "bfee0575-b038-4b92-e9e6-078a55ee4b66"
      },
      "execution_count": null,
      "outputs": [
        {
          "output_type": "stream",
          "name": "stdout",
          "text": [
            "[12 34 26 18 10]\n",
            "<class 'numpy.ndarray'>\n"
          ]
        }
      ]
    },
    {
      "cell_type": "code",
      "source": [
        "#cria um array com tipo específico\n",
        "#cria o array com float de 64 bits\n",
        "mtfloat = np.array([1, 2, 3], dtype=np.float64)\n",
        "print(mtfloat)\n",
        "print(type(mtfloat))\n",
        "mtint = np.array([1, 2, 3], dtype=np.int32)\n",
        "print(mtint)\n",
        "print(type(mtint))"
      ],
      "metadata": {
        "colab": {
          "base_uri": "https://localhost:8080/"
        },
        "id": "OL8JZeGrjLnu",
        "outputId": "700cd62d-2edd-4c2e-8d38-91070883b8ff"
      },
      "execution_count": null,
      "outputs": [
        {
          "output_type": "stream",
          "name": "stdout",
          "text": [
            "[1. 2. 3.]\n",
            "<class 'numpy.ndarray'>\n",
            "[1 2 3]\n",
            "<class 'numpy.ndarray'>\n"
          ]
        }
      ]
    },
    {
      "cell_type": "code",
      "source": [
        "#mudar o tipo do array\n",
        "#transforma tipos de dados de array\n",
        "mtnew = np.array([1.4, 3.6, -5.1, 9.42, 4.999999])\n",
        "print(mtnew)\n",
        "mtnewint = mtnew.astype(np.int32)\n",
        "print(mtnewint)"
      ],
      "metadata": {
        "colab": {
          "base_uri": "https://localhost:8080/"
        },
        "id": "H-Jhnz41kQ3W",
        "outputId": "49da23f0-c5e1-4cc2-c258-9260612fe9e4"
      },
      "execution_count": null,
      "outputs": [
        {
          "output_type": "stream",
          "name": "stdout",
          "text": [
            "[ 1.4       3.6      -5.1       9.42      4.999999]\n",
            "[ 1  3 -5  9  4]\n"
          ]
        }
      ]
    },
    {
      "cell_type": "code",
      "source": [
        "#mudar o tipo do array\n",
        "#transforma tipos de dados de array\n",
        "mtint2 = np.array([1, 3, -5, 9, 4])\n",
        "print(mtint2)\n",
        "mtfloat = mtint2.astype(np.float64)\n",
        "print(mtfloat)"
      ],
      "metadata": {
        "colab": {
          "base_uri": "https://localhost:8080/"
        },
        "id": "rE9IfY1glHG3",
        "outputId": "56908f26-a7ca-4a45-a766-3d8a9e4d3650"
      },
      "execution_count": null,
      "outputs": [
        {
          "output_type": "stream",
          "name": "stdout",
          "text": [
            "[ 1  3 -5  9  4]\n",
            "[ 1.  3. -5.  9.  4.]\n"
          ]
        }
      ]
    },
    {
      "cell_type": "code",
      "source": [
        "#matriz bidimensional\n",
        "mtb = np.array([[3, 22, 12], [4, 7.5, 8], [32, 7, 10]])\n",
        "print(mtb)"
      ],
      "metadata": {
        "colab": {
          "base_uri": "https://localhost:8080/"
        },
        "id": "bvvRPY6WmKD2",
        "outputId": "e7f5131e-2971-456b-be30-7667eef22efd"
      },
      "execution_count": null,
      "outputs": [
        {
          "output_type": "stream",
          "name": "stdout",
          "text": [
            "[[ 3.  22.  12. ]\n",
            " [ 4.   7.5  8. ]\n",
            " [32.   7.  10. ]]\n"
          ]
        }
      ]
    },
    {
      "cell_type": "code",
      "source": [
        "#cria arrays vazias tipificadas\n",
        "vazio = np.empty([3, 2], dtype=np.int32)\n",
        "print(\"MATRIZ COM CASAS VAZIAS\\n\")\n",
        "print(vazio)\n",
        "print(\"----------\")\n",
        "#cria uma matriz com valores zero\n",
        "zeros = np.zeros([4, 3])\n",
        "print(\"\\nMATRIZ COM VALORES 0\\n\")\n",
        "print(zeros)\n",
        "print(\"----------\")\n",
        "#cria uma matriz com valores um\n",
        "um = np.ones([5, 7])\n",
        "print(\"\\nMATRIZ COM VALORES 1\\n\")\n",
        "print(um)\n",
        "print(\"----------\")\n",
        "#cria uma matriz diagonal\n",
        "diagonal = np.eye(5)\n",
        "print(\"\\nMATRIZ COM VALORES NA DIAGONAL\\n\")\n",
        "print(diagonal)\n",
        "print(\"----------\")"
      ],
      "metadata": {
        "colab": {
          "base_uri": "https://localhost:8080/"
        },
        "id": "Vv6d34WVnVlx",
        "outputId": "57e66a97-b22d-4a9e-8537-dffe60bc42dc"
      },
      "execution_count": null,
      "outputs": [
        {
          "output_type": "stream",
          "name": "stdout",
          "text": [
            "MATRIZ COM CASAS VAZIAS\n",
            "\n",
            "[[-1100012452  1071669463]\n",
            " [ -679990699  1072589362]\n",
            " [ 2063889932  1069708242]]\n",
            "----------\n",
            "\n",
            "MATRIZ COM VALORES 0\n",
            "\n",
            "[[0. 0. 0.]\n",
            " [0. 0. 0.]\n",
            " [0. 0. 0.]\n",
            " [0. 0. 0.]]\n",
            "----------\n",
            "\n",
            "MATRIZ COM VALORES 1\n",
            "\n",
            "[[1. 1. 1. 1. 1. 1. 1.]\n",
            " [1. 1. 1. 1. 1. 1. 1.]\n",
            " [1. 1. 1. 1. 1. 1. 1.]\n",
            " [1. 1. 1. 1. 1. 1. 1.]\n",
            " [1. 1. 1. 1. 1. 1. 1.]]\n",
            "----------\n",
            "\n",
            "MATRIZ COM VALORES NA DIAGONAL\n",
            "\n",
            "[[1. 0. 0. 0. 0.]\n",
            " [0. 1. 0. 0. 0.]\n",
            " [0. 0. 1. 0. 0.]\n",
            " [0. 0. 0. 1. 0.]\n",
            " [0. 0. 0. 0. 1.]]\n",
            "----------\n"
          ]
        }
      ]
    },
    {
      "cell_type": "code",
      "source": [
        "#valores aleatórios entre 0 e 1\n",
        "ale = np.random.random(5)\n",
        "print(\"NUMEROS ALEATÓRIOS\\n\")\n",
        "print(ale)\n",
        "print(\"----------\")\n",
        "#valores aleatórios distr. normal contendo negativos\n",
        "ale2 = np.random.randn(5)\n",
        "print(\"\\nNUMEROS ALEATÓRIOS CONTENDO NEGATIVOS\\n\")\n",
        "print(ale2)\n",
        "print(\"----------\")\n",
        "#valores aleatórios 3 x 4\n",
        "ale3 = (10 * np.random.random((3, 4)))\n",
        "print(\"\\nNUMEROS ALEATÓRIOS EM UMA MATRIZ 3 x 4\\n\")\n",
        "print(ale3)\n",
        "print(\"----------\")"
      ],
      "metadata": {
        "colab": {
          "base_uri": "https://localhost:8080/"
        },
        "id": "IbAW0omRpN5_",
        "outputId": "2fb90154-942e-4b2a-dfc5-6ce022e369bc"
      },
      "execution_count": null,
      "outputs": [
        {
          "output_type": "stream",
          "name": "stdout",
          "text": [
            "NUMEROS ALEATÓRIOS\n",
            "\n",
            "[0.49883024 0.54807839 0.90479873 0.84096538 0.52151196]\n",
            "----------\n",
            "\n",
            "NUMEROS ALEATÓRIOS CONTENDO NEGATIVOS\n",
            "\n",
            "[-1.62768171 -0.1777138   0.60252258  0.18859261  0.78567839]\n",
            "----------\n",
            "\n",
            "NUMEROS ALEATÓRIOS EM UMA MATRIZ 3 x 4\n",
            "\n",
            "[[2.69486449 9.56829759 4.5428173  7.5726378 ]\n",
            " [2.71360588 7.94449824 1.51213566 0.08443037]\n",
            " [0.44004813 0.40246723 8.28814954 2.5363332 ]]\n",
            "----------\n"
          ]
        }
      ]
    },
    {
      "cell_type": "code",
      "source": [
        "#gerando numeros aleatórios com sementes\n",
        "gnr = np.random.default_rng(1)\n",
        "aleg = gnr.random(3)\n",
        "print(\"MATRIZ COM NUMEROS ALEATÓRIOS\\n\")\n",
        "print(aleg)\n",
        "print(\"----------\")\n",
        "#gerar inteiros\n",
        "alei = gnr.integers(10, size=(3, 4))\n",
        "print(\"\\nMATRIZ COM NUMEROS ALEATÓRIOS INTEIROS\\n\")\n",
        "print(alei)\n",
        "print(\"----------\")"
      ],
      "metadata": {
        "colab": {
          "base_uri": "https://localhost:8080/"
        },
        "id": "CeBAf3y4rhhm",
        "outputId": "36e5745d-0829-40a2-ed24-35fa47c29bd7"
      },
      "execution_count": null,
      "outputs": [
        {
          "output_type": "stream",
          "name": "stdout",
          "text": [
            "MATRIZ COM NUMEROS ALEATÓRIOS\n",
            "\n",
            "[0.51182162 0.9504637  0.14415961]\n",
            "----------\n",
            "\n",
            "MATRIZ COM NUMEROS ALEATÓRIOS INTEIROS\n",
            "\n",
            "[[8 9 2 3]\n",
            " [8 4 2 8]\n",
            " [2 4 6 5]]\n",
            "----------\n"
          ]
        }
      ]
    },
    {
      "cell_type": "code",
      "source": [
        "#unique - remove repetições\n",
        "j = np.array([11, 12, 12, 23, 23, 22, 24, 35, 35, 35])\n",
        "j = np.unique(j)\n",
        "print(\"MATRIZ COM NÚMEROS NÃO REPETIDOS\\n\")\n",
        "print(j)\n",
        "print(\"----------\")"
      ],
      "metadata": {
        "colab": {
          "base_uri": "https://localhost:8080/"
        },
        "id": "RzJk6LqDtnsf",
        "outputId": "77ce7632-fb61-4ce4-fced-16d7ef2bdd58"
      },
      "execution_count": null,
      "outputs": [
        {
          "output_type": "stream",
          "name": "stdout",
          "text": [
            "\n",
            "MATRIZ COM NUMEROS NÃO REPETIDOS\n",
            "\n",
            "[11 12 22 23 24 35]\n",
            "----------\n"
          ]
        }
      ]
    },
    {
      "cell_type": "code",
      "source": [
        "#cria a matriz bidimensional k\n",
        "k = np.array([[17, 32, 35], [33, 73, 89], [22, 45, 56]])\n",
        "print(\"MATRIZ 2D\\n\")\n",
        "print(k)\n",
        "print(\"----------\")\n",
        "#mostra um elemento especifíco\n",
        "print(\"\\nELEMENTOS ESPECIFÍCOS\\n\")\n",
        "print(k[0][1])\n",
        "print(\"----------\")\n",
        "#mostra o tamanho das dimensões\n",
        "print(\"\\nFORMAS:\\n\")\n",
        "print(k.shape)\n",
        "print(\"----------\")"
      ],
      "metadata": {
        "colab": {
          "base_uri": "https://localhost:8080/"
        },
        "id": "um6Z8xXouEqk",
        "outputId": "38234326-92f6-4242-e617-6fb92ec99acf"
      },
      "execution_count": null,
      "outputs": [
        {
          "output_type": "stream",
          "name": "stdout",
          "text": [
            "MATRIZ 2D\n",
            "\n",
            "[[17 32 35]\n",
            " [33 73 89]\n",
            " [22 45 56]]\n",
            "----------\n",
            "\n",
            "ELEMENTOS ESPECIFÍCOS\n",
            "\n",
            "32\n",
            "----------\n",
            "\n",
            "FORMAS:\n",
            "\n",
            "(3, 3)\n",
            "----------\n"
          ]
        }
      ]
    },
    {
      "cell_type": "code",
      "source": [
        "\n",
        "#Funções matemáticas\n",
        "#mostra o maior valor da matriz k\n",
        "print(\"MAIOR VALOR DE K:\\n\")\n",
        "print(k.max())\n",
        "print(\"----------\")\n",
        "#mostra o menor valor de k\n",
        "print(\"\\nMENOR VALOR DE K:\\n\")\n",
        "print(k.min())\n",
        "print(\"----------\")\n",
        "#soma dos elementos\n",
        "print(\"\\nSOMA DOS VALORES DE K:\\n\")\n",
        "print(k.sum())\n",
        "print(\"----------\")\n",
        "#media dos valores de k\n",
        "print(\"\\nMEDIA DOS VALORES DE K:\\n\")\n",
        "print(k.mean())\n",
        "print(\"----------\")\n",
        "#desvio padrão\n",
        "print(\"\\nDESVIÃO PADRÃO DE K:\\n\")\n",
        "print(k.std())\n",
        "print(\"----------\")\n",
        "#soma dos elementos"
      ],
      "metadata": {
        "colab": {
          "base_uri": "https://localhost:8080/"
        },
        "id": "-goa6GVD_e-D",
        "outputId": "46e23a96-161a-4274-81c2-aabba7927848"
      },
      "execution_count": null,
      "outputs": [
        {
          "output_type": "stream",
          "name": "stdout",
          "text": [
            "MAIOR VALOR DE K:\n",
            "\n",
            "89\n",
            "----------\n",
            "\n",
            "MENOR VALOR DE K:\n",
            "\n",
            "17\n",
            "----------\n",
            "\n",
            "SOMA DOS VALORES DE K:\n",
            "\n",
            "402\n",
            "----------\n",
            "\n",
            "MEDIA DOS VALORES DE K:\n",
            "\n",
            "44.666666666666664\n",
            "----------\n",
            "\n",
            "DESVIÃO PADRÃO DE K:\n",
            "\n",
            "22.524061208701536\n",
            "----------\n"
          ]
        }
      ]
    },
    {
      "cell_type": "code",
      "source": [
        "k1 = np.array([1, 4, 9, 16, 25])\n",
        "k1 = np.sqrt(k1)\n",
        "#imprime a raiz quadrada dos elementos da matriz\n",
        "print(\"RAÍZ QUADRADA:\\n\")\n",
        "print(k1)\n",
        "print(\"----------\")\n",
        "#exponencial\n",
        "print(\"\\nEXPONENCIAL:\\n\")\n",
        "k1 = np.exp(k1)\n",
        "print(k1)\n",
        "print(\"----------\")"
      ],
      "metadata": {
        "colab": {
          "base_uri": "https://localhost:8080/"
        },
        "id": "aQuQ0oo0BsZ_",
        "outputId": "901be154-f573-40fd-93a5-eb942e176b01"
      },
      "execution_count": null,
      "outputs": [
        {
          "output_type": "stream",
          "name": "stdout",
          "text": [
            "RAÍZ QUADRADA:\n",
            "\n",
            "[1. 2. 3. 4. 5.]\n",
            "----------\n",
            "\n",
            "EXPONENCIAL:\n",
            "\n",
            "[  2.71828183   7.3890561   20.08553692  54.59815003 148.4131591 ]\n",
            "----------\n"
          ]
        }
      ]
    },
    {
      "cell_type": "code",
      "source": [
        "#extração de elementos\n",
        "m = np.array([1, 4, 9, 16, 25, 36])\n",
        "#elemento da posição 2\n",
        "print(\"ELEMENTO POSIÇÃO 2:\\n\")\n",
        "print(m[1])\n",
        "print(\"----------\")\n",
        "#mostra o elemento criado da posição 0, dois em dois\n",
        "print(\"\\nDOIS ELEMENTOS:\\n\")\n",
        "print(m[0:2])\n",
        "print(\"----------\")\n",
        "#mostra o array todo a partir do segundo elemento\n",
        "print(\"\\nMATRIZ:\\n\")\n",
        "print(m[1:])\n",
        "print(\"----------\")\n",
        "#mostra a partir da antepenúltima\n",
        "print(\"\\nANTEPENÚLTIMA:\\n\")\n",
        "print(m[-3:])\n",
        "print(\"----------\")"
      ],
      "metadata": {
        "colab": {
          "base_uri": "https://localhost:8080/"
        },
        "id": "rdKZaFPTDEuZ",
        "outputId": "07988af1-0a8c-40b7-961e-6f77f40d9b1f"
      },
      "execution_count": null,
      "outputs": [
        {
          "output_type": "stream",
          "name": "stdout",
          "text": [
            "ELEMENTO POSIÇÃO 2:\n",
            "\n",
            "4\n",
            "----------\n",
            "\n",
            "DOIS ELEMENTOS:\n",
            "\n",
            "[1 4]\n",
            "----------\n",
            "\n",
            "MATRIZ:\n",
            "\n",
            "[ 4  9 16 25 36]\n",
            "----------\n",
            "\n",
            "ANTEPENÚLTIMA:\n",
            "\n",
            "[16 25 36]\n",
            "----------\n"
          ]
        }
      ]
    }
  ]
}