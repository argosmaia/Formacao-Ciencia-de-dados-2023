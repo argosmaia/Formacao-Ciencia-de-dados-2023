{
  "nbformat": 4,
  "nbformat_minor": 0,
  "metadata": {
    "colab": {
      "provenance": [],
      "authorship_tag": "ABX9TyOLBY8jKH2RhMpUw/ipQ5wx",
      "include_colab_link": true
    },
    "kernelspec": {
      "name": "python3",
      "display_name": "Python 3"
    },
    "language_info": {
      "name": "python"
    }
  },
  "cells": [
    {
      "cell_type": "markdown",
      "metadata": {
        "id": "view-in-github",
        "colab_type": "text"
      },
      "source": [
        "<a href=\"https://colab.research.google.com/github/argosmaia/Formacao-Ciencia-de-dados-2023/blob/master/exercicios.ipynb\" target=\"_parent\"><img src=\"https://colab.research.google.com/assets/colab-badge.svg\" alt=\"Open In Colab\"/></a>"
      ]
    },
    {
      "cell_type": "code",
      "execution_count": 11,
      "metadata": {
        "colab": {
          "base_uri": "https://localhost:8080/"
        },
        "id": "OJ3pSsM4Svsa",
        "outputId": "17590d55-45f1-4d7c-afb7-8660ed43ac0c"
      },
      "outputs": [
        {
          "output_type": "stream",
          "name": "stdout",
          "text": [
            "[57390, 26076, 21035, 33344, 12553, 19851, 10488, 10787, 21106, 97094, 60290, 15734, 56137, 28371, 33146, 5253, 59951, 54646, 10188, 20682, 27443, 99445, 11098, 76410, 30058, 6952, 48428, 70885, 92665, 73049, 52040, 85911, 67855, 76448, 24458, 20457, 19729, 43910, 77340, 622, 2253, 12999, 35542, 86405, 85233, 82425, 38458, 55161, 67187, 20122, 17175, 87008, 64557, 41605, 66174, 12159, 9873, 53074, 54281, 16553, 34474, 80123, 27421, 89610, 99246, 56102, 28923, 16563, 15849, 13927, 35102, 30410, 33287, 9572, 88868, 63548, 22101, 65167, 69214, 82547, 91790, 99624, 96912, 96348, 54450, 89030, 87392, 3857, 99894, 9150, 11184, 60896, 45243, 15826, 63683, 82750, 16694, 58517, 74360, 7197]\n",
            "\n",
            "MAIOR VALOR:\n",
            "99894\n",
            "\n",
            "MENOR VALOR:\n",
            "622\n",
            "\n",
            "AMPLITUDE:\n",
            "99272\n"
          ]
        }
      ],
      "source": [
        "import random\n",
        "\n",
        "lista = [random.randint(0, 100000) for x in range(0, 100)]\n",
        "\n",
        "def amplitude(lista):\n",
        "  \n",
        "  maior = -1\n",
        "  menor = 1000000\n",
        "\n",
        "  print(lista)\n",
        "  \n",
        "  for i in range(len(lista)):\n",
        "    if lista[i] > maior:\n",
        "      maior = lista[i]\n",
        "  print(f\"\\nMAIOR VALOR:\\n{maior}\")\n",
        "  \n",
        "  for k in range(len(lista)):\n",
        "    if menor > lista[k]:\n",
        "      menor = lista[k]\n",
        "  print(f\"\\nMENOR VALOR:\\n{menor}\")\n",
        "\n",
        "  amp = maior - menor\n",
        "  print(f\"\\nAMPLITUDE:\\n{amp}\")\n",
        "\n",
        "amplitude(lista)"
      ]
    },
    {
      "cell_type": "code",
      "source": [
        "def verticaliza_strings(resp):\n",
        "  for i in range(len(resp)):\n",
        "    print(resp[i],\"\\n\")\n",
        "\n",
        "resp = input(\"Escreva uma string:\\n\")\n",
        "verticaliza_strings(resp)"
      ],
      "metadata": {
        "colab": {
          "base_uri": "https://localhost:8080/"
        },
        "id": "zYaB4GbAPZiP",
        "outputId": "cedaea73-788e-4d13-9c6d-0f7cdc54cbac"
      },
      "execution_count": 15,
      "outputs": [
        {
          "output_type": "stream",
          "name": "stdout",
          "text": [
            "Escreva uma string:\n",
            "cale a boca\n",
            "c \n",
            "\n",
            "a \n",
            "\n",
            "l \n",
            "\n",
            "e \n",
            "\n",
            "  \n",
            "\n",
            "a \n",
            "\n",
            "  \n",
            "\n",
            "b \n",
            "\n",
            "o \n",
            "\n",
            "c \n",
            "\n",
            "a \n",
            "\n"
          ]
        }
      ]
    },
    {
      "cell_type": "code",
      "source": [
        "def peso(kg):\n",
        "  if kg <= 10:\n",
        "    print(\"\\nPagarás R$ 50\\n\")\n",
        "  elif kg > 10 and kg <= 20:\n",
        "    print(\"\\nPagarás R$ 80\\n\")\n",
        "  else:\n",
        "    print(\"\\nNão carregaremos!\")\n",
        "kg = int(input(\"PESO: \"))\n",
        "peso(kg)"
      ],
      "metadata": {
        "colab": {
          "base_uri": "https://localhost:8080/"
        },
        "id": "zz-8Q1YZQs6P",
        "outputId": "cf2f37ab-3370-495f-c071-164af6750fef"
      },
      "execution_count": 16,
      "outputs": [
        {
          "output_type": "stream",
          "name": "stdout",
          "text": [
            "PESO: 13\n",
            "\n",
            "Pagarás R$ 80\n",
            "\n"
          ]
        }
      ]
    }
  ]
}